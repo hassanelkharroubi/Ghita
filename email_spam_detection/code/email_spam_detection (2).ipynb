{
 "cells": [
  {
   "cell_type": "code",
   "execution_count": 16,
   "metadata": {},
   "outputs": [],
   "source": [
    "import pandas as pd\n",
    "import re\n",
    "import numpy as np"
   ]
  },
  {
   "cell_type": "markdown",
   "metadata": {},
   "source": [
    "## Importation des donneees avec pandas"
   ]
  },
  {
   "cell_type": "code",
   "execution_count": 17,
   "metadata": {},
   "outputs": [],
   "source": [
    "data=pd.read_csv('../dataset/archive/completeSpamAssassin.csv',sep=',')"
   ]
  },
  {
   "cell_type": "code",
   "execution_count": 18,
   "metadata": {},
   "outputs": [
    {
     "data": {
      "text/html": [
       "<div>\n",
       "<style scoped>\n",
       "    .dataframe tbody tr th:only-of-type {\n",
       "        vertical-align: middle;\n",
       "    }\n",
       "\n",
       "    .dataframe tbody tr th {\n",
       "        vertical-align: top;\n",
       "    }\n",
       "\n",
       "    .dataframe thead th {\n",
       "        text-align: right;\n",
       "    }\n",
       "</style>\n",
       "<table border=\"1\" class=\"dataframe\">\n",
       "  <thead>\n",
       "    <tr style=\"text-align: right;\">\n",
       "      <th></th>\n",
       "      <th>Unnamed: 0</th>\n",
       "      <th>Body</th>\n",
       "      <th>Label</th>\n",
       "    </tr>\n",
       "  </thead>\n",
       "  <tbody>\n",
       "    <tr>\n",
       "      <th>0</th>\n",
       "      <td>0</td>\n",
       "      <td>\\nSave up to 70% on Life Insuranc{
 "cells": [
  {
   "cell_type": "code",
   "execution_count": 16,
   "metadata": {},
   "outputs": [],
   "source": [
    "import pandas as pd\n",
    "import re\n",
    "import numpy as np"
   ]
  },
  {
   "cell_type": "markdown",
   "metadata": {},
   "source": [
    "## Importation des donneees avec pandas"
   ]
  },
  {
   "cell_type": "code",
   "execution_count": 17,
   "metadata": {},
   "outputs": [],
   "source": [
    "data=pd.read_csv('../dataset/archive/completeSpamAssassin.csv',sep=',')"
   ]
  },
  {
   "cell_type": "code",
   "execution_count": 18,
   "metadata": {},
   "outputs": [
    {
     "data": {
      "text/html": [
       "<div>\n",
       "<style scoped>\n",
       "    .dataframe tbody tr th:only-of-type {\n",
       "        vertical-align: middle;\n",
       "    }\n",
       "\n",
       "    .dataframe tbody tr th {\n",
       "        vertical-align: top;\n",
       "    }\n",
       "\n",
       "    .dataframe thead th {\n",
       "        text-align: right;\n",
       "    }\n",
       "</style>\n",
       "<table border=\"1\" class=\"dataframe\">\n",
       "  <thead>\n",
       "    <tr style=\"text-align: right;\">\n",
       "      <th></th>\n",
       "      <th>Unnamed: 0</th>\n",
       "      <th>Body</th>\n",
       "      <th>Label</th>\n",
       "    </tr>\n",
       "  </thead>\n",
       "  <tbody>\n",
       "    <tr>\n",
       "      <th>0</th>\n",
       "      <td>0</td>\n",
       "      <td>\\nSave up to 70% on Life Insurance.\\nWhy Spend...</td>\n",
       "      <td>1</td>\n",
       "    </tr>\n",
       "    <tr>\n",
       "      <th>1</th>\n",
       "      <td>1</td>\n",
       "      <td>1) Fight The Risk of Cancer!\\nhttp://www.adcli...</td>\n",
       "      <td>1</td>\n",
       "    </tr>\n",
       "    <tr>\n",
       "      <th>2</th>\n",
       "      <td>2</td>\n",
       "      <td>1) Fight The Risk of Cancer!\\nhttp://www.adcli...</td>\n",
       "      <td>1</td>\n",
       "    </tr>\n",
       "    <tr>\n",
       "      <th>3</th>\n",
       "      <td>3</td>\n",
       "      <td>##############################################...</td>\n",
       "      <td>1</td>\n",
       "    </tr>\n",
       "    <tr>\n",
       "      <th>4</th>\n",
       "      <td>4</td>\n",
       "      <td>I thought you might like these:\\n1) Slim Down ...</td>\n",
       "      <td>1</td>\n",
       "    </tr>\n",
       "  </tbody>\n",
       "</table>\n",
       "</div>"
      ],
      "text/plain": [
       "   Unnamed: 0                                               Body  Label\n",
       "0           0  \\nSave up to 70% on Life Insurance.\\nWhy Spend...      1\n",
       "1           1  1) Fight The Risk of Cancer!\\nhttp://www.adcli...      1\n",
       "2           2  1) Fight The Risk of Cancer!\\nhttp://www.adcli...      1\n",
       "3           3  ##############################################...      1\n",
       "4           4  I thought you might like these:\\n1) Slim Down ...      1"
      ]
     },
     "execution_count": 18,
     "metadata": {},
     "output_type": "execute_result"
    }
   ],
   "source": [
    "data.head()"
   ]
  },
  {
   "cell_type": "markdown",
   "metadata": {},
   "source": [
    "## drop 2 first columns"
   ]
  },
  {
   "cell_type": "code",
   "execution_count": 19,
   "metadata": {},
   "outputs": [
    {
     "data": {
      "text/html": [
       "<div>\n",
       "<style scoped>\n",
       "    .dataframe tbody tr th:only-of-type {\n",
       "        vertical-align: middle;\n",
       "    }\n",
       "\n",
       "    .dataframe tbody tr th {\n",
       "        vertical-align: top;\n",
       "    }\n",
       "\n",
       "    .dataframe thead th {\n",
       "        text-align: right;\n",
       "    }\n",
       "</style>\n",
       "<table border=\"1\" class=\"dataframe\">\n",
       "  <thead>\n",
       "    <tr style=\"text-align: right;\">\n",
       "      <th></th>\n",
       "      <th>Body</th>\n",
       "      <th>Label</th>\n",
       "    </tr>\n",
       "  </thead>\n",
       "  <tbody>\n",
       "    <tr>\n",
       "      <th>0</th>\n",
       "      <td>\\nSave up to 70% on Life Insurance.\\nWhy Spend...</td>\n",
       "      <td>1</td>\n",
       "    </tr>\n",
       "    <tr>\n",
       "      <th>1</th>\n",
       "      <td>1) Fight The Risk of Cancer!\\nhttp://www.adcli...</td>\n",
       "      <td>1</td>\n",
       "    </tr>\n",
       "    <tr>\n",
       "      <th>2</th>\n",
       "      <td>1) Fight The Risk of Cancer!\\nhttp://www.adcli...</td>\n",
       "      <td>1</td>\n",
       "    </tr>\n",
       "    <tr>\n",
       "      <th>3</th>\n",
       "      <td>##############################################...</td>\n",
       "      <td>1</td>\n",
       "    </tr>\n",
       "    <tr>\n",
       "      <th>4</th>\n",
       "      <td>I thought you might like these:\\n1) Slim Down ...</td>\n",
       "      <td>1</td>\n",
       "    </tr>\n",
       "  </tbody>\n",
       "</table>\n",
       "</div>"
      ],
      "text/plain": [
       "                                                Body  Label\n",
       "0  \\nSave up to 70% on Life Insurance.\\nWhy Spend...      1\n",
       "1  1) Fight The Risk of Cancer!\\nhttp://www.adcli...      1\n",
       "2  1) Fight The Risk of Cancer!\\nhttp://www.adcli...      1\n",
       "3  ##############################################...      1\n",
       "4  I thought you might like these:\\n1) Slim Down ...      1"
      ]
     },
     "execution_count": 19,
     "metadata": {},
     "output_type": "execute_result"
    }
   ],
   "source": [
    "data=data.drop(columns=['Unnamed: 0'])\n",
    "data.head()"
   ]
  },
  {
   "cell_type": "markdown",
   "metadata": {},
   "source": [
    "# Pre-traitement de donnees"
   ]
  },
  {
   "cell_type": "markdown",
   "metadata": {},
   "source": [
    "<ul>\n",
    "<li> a quoi set pre-traitemet des donnees\n",
    "<li>convertir DataFrame a Numpy\n",
    "<li> Limatization / Stemming\n",
    "<li> Stop words ( pourquoi on doit les supprimer ?)\n",
    "<li> supprimer les liens\n",
    "<li> supprimer les caracteres speciaux\n",
    "<li> Vectorization\n",
    "<li> Normlisation des donnees\n",
    "<ul>"
   ]
  },
  {
   "cell_type": "code",
   "execution_count": 20,
   "metadata": {},
   "outputs": [],
   "source": [
    "data=data.to_numpy()"
   ]
  },
  {
   "cell_type": "code",
   "execution_count": 21,
   "metadata": {},
   "outputs": [
    {
     "data": {
      "text/plain": [
       "(6046, 2)"
      ]
     },
     "execution_count": 21,
     "metadata": {},
     "output_type": "execute_result"
    }
   ],
   "source": [
    "data.shape"
   ]
  },
  {
   "cell_type": "markdown",
   "metadata": {},
   "source": [
    "## pre-traiment d'un commentaire"
   ]
  },
  {
   "cell_type": "code",
   "execution_count": 22,
   "metadata": {},
   "outputs": [
    {
     "data": {
      "text/plain": [
       "array([\"\\nSave up to 70% on Life Insurance.\\nWhy Spend More Than You Have To?Life Quote Savings\\nEnsuring your \\n      family's financial security is very important. Life Quote Savings makes \\n      buying life insurance simple and affordable. We Provide FREE Access to The \\n      Very Best Companies and The Lowest Rates.Life Quote Savings is FAST, EASY and \\n            SAVES you money! Let us help you get started with the best values in \\n            the country on new coverage. You can SAVE hundreds or even thousands \\n            of dollars by requesting a FREE quote from Lifequote Savings. Our \\n            service will take you less than 5 minutes to complete. Shop and \\n            compare. SAVE up to 70% on all types of Life insurance! Click Here For Your \\n            Free Quote!Protecting your family is the best investment you'll ever \\n          make!\\nIf you are in receipt of this email \\n      in error and/or wish to be removed from our list, PLEASE CLICK HERE AND TYPE REMOVE. If you \\n      reside in any state which prohibits e-mail solicitations for insurance, \\n      please disregard this \\n      email.\\n\",\n",
       "       1], dtype=object)"
      ]
     },
     "execution_count": 22,
     "metadata": {},
     "output_type": "execute_result"
    }
   ],
   "source": [
    "comment=data[0]\n",
    "comment"
   ]
  },
  {
   "cell_type": "code",
   "execution_count": 23,
   "metadata": {},
   "outputs": [
    {
     "data": {
      "text/plain": [
       "\"\\nSave up to 70% on Life Insurance.\\nWhy Spend More Than You Have To?Life Quote Savings\\nEnsuring your \\n      family's financial security is very important. Life Quote Savings makes \\n      buying life insurance simple and affordable. We Provide FREE Access to The \\n      Very Best Companies and The Lowest Rates.Life Quote Savings is FAST, EASY and \\n            SAVES you money! Let us help you get started with the best values in \\n            the country on new coverage. You can SAVE hundreds or even thousands \\n            of dollars by requesting a FREE quote from Lifequote Savings. Our \\n            service will take you less than 5 minutes to complete. Shop and \\n            compare. SAVE up to 70% on all types of Life insurance! Click Here For Your \\n            Free Quote!Protecting your family is the best investment you'll ever \\n          make!\\nIf you are in receipt of this email \\n      in error and/or wish to be removed from our list, PLEASE CLICK HERE AND TYPE REMOVE. If you \\n      reside in any state which prohibits e-mail solicitations for insurance, \\n      please disregard this \\n      email.\\n\""
      ]
     },
     "execution_count": 23,
     "metadata": {},
     "output_type": "execute_result"
    }
   ],
   "source": [
    "text=comment[0]\n",
    "label=comment[1]\n",
    "text"
   ]
  },
  {
   "cell_type": "code",
   "execution_count": 24,
   "metadata": {},
   "outputs": [
    {
     "data": {
      "text/plain": [
       "\"\\nSave up to 70% on Life Insurance.\\nWhy Spend More Than You Have To?Life Quote Savings\\nEnsuring your \\n      family's financial security is very important. Life Quote Savings makes \\n      buying life insurance simple and affordable. We Provide FREE Access to The \\n      Very Best Companies and The Lowest Rates.Life Quote Savings is FAST, EASY and \\n            SAVES you money! Let us help you get started with the best values in \\n            the country on new coverage. You can SAVE hundreds or even thousands \\n            of dollars by requesting a FREE quote from Lifequote Savings. Our \\n            service will take you less than 5 minutes to complete. Shop and \\n            compare. SAVE up to 70% on all types of Life insurance! Click Here For Your \\n            Free Quote!Protecting your family is the best investment you'll ever \\n          make!\\nIf you are in receipt of this email \\n      in error and/or wish to be removed from our list, PLEASE CLICK HERE AND TYPE REMOVE. If you \\n      reside in any state which prohibits e-mail solicitations for insurance, \\n      please disregard this \\n      email.\\n\""
      ]
     },
     "execution_count": 24,
     "metadata": {},
     "output_type": "execute_result"
    }
   ],
   "source": [
    "text_url=re.sub(r'http\\S+', ' ', text)\n",
    "text_url"
   ]
  },
  {
   "cell_type": "markdown",
   "metadata": {},
   "source": [
    "# Supprimer les emails"
   ]
  },
  {
   "cell_type": "code",
   "execution_count": 25,
   "metadata": {},
   "outputs": [
    {
     "data": {
      "text/plain": [
       "\"\\nSave up to 70% on Life Insurance.\\nWhy Spend More Than You Have To?Life Quote Savings\\nEnsuring your \\n      family's financial security is very important. Life Quote Savings makes \\n      buying life insurance simple and affordable. We Provide FREE Access to The \\n      Very Best Companies and The Lowest Rates.Life Quote Savings is FAST, EASY and \\n            SAVES you money! Let us help you get started with the best values in \\n            the country on new coverage. You can SAVE hundreds or even thousands \\n            of dollars by requesting a FREE quote from Lifequote Savings. Our \\n            service will take you less than 5 minutes to complete. Shop and \\n            compare. SAVE up to 70% on all types of Life insurance! Click Here For Your \\n            Free Quote!Protecting your family is the best investment you'll ever \\n          make!\\nIf you are in receipt of this email \\n      in error and/or wish to be removed from our list, PLEASE CLICK HERE AND TYPE REMOVE. If you \\n      reside in any state which prohibits e-mail solicitations for insurance, \\n      please disregard this \\n      email.\\n\""
      ]
     },
     "execution_count": 25,
     "metadata": {},
     "output_type": "execute_result"
    }
   ],
   "source": [
    "text_email=re.sub('\\S*@\\S*\\s?','',text_url)\n",
    "text_email"
   ]
  },
  {
   "cell_type": "markdown",
   "metadata": {},
   "source": [
    "# Supprimer les nombres"
   ]
  },
  {
   "cell_type": "code",
   "execution_count": 26,
   "metadata": {},
   "outputs": [
    {
     "data": {
      "text/plain": [
       "\"\\nSave up to % on Life Insurance.\\nWhy Spend More Than You Have To?Life Quote Savings\\nEnsuring your \\n      family's financial security is very important. Life Quote Savings makes \\n      buying life insurance simple and affordable. We Provide FREE Access to The \\n      Very Best Companies and The Lowest Rates.Life Quote Savings is FAST, EASY and \\n            SAVES you money! Let us help you get started with the best values in \\n            the country on new coverage. You can SAVE hundreds or even thousands \\n            of dollars by requesting a FREE quote from Lifequote Savings. Our \\n            service will take you less than  minutes to complete. Shop and \\n            compare. SAVE up to % on all types of Life insurance! Click Here For Your \\n            Free Quote!Protecting your family is the best investment you'll ever \\n          make!\\nIf you are in receipt of this email \\n      in error and/or wish to be removed from our list, PLEASE CLICK HERE AND TYPE REMOVE. If you \\n      reside in any state which prohibits e-mail solicitations for insurance, \\n      please disregard this \\n      email.\\n\""
      ]
     },
     "execution_count": 26,
     "metadata": {},
     "output_type": "execute_result"
    }
   ],
   "source": [
    "text_nombre=re.sub('[0-9]','',text_email)\n",
    "text_nombre"
   ]
  },
  {
   "cell_type": "markdown",
   "metadata": {},
   "source": [
    "# Supprimer les caracteres speciaux"
   ]
  },
  {
   "cell_type": "markdown",
   "metadata": {},
   "source": [
    "* Note\n",
    "Il faut adapter la supprission des caracteres speciaux en basant sur la nature de langage"
   ]
  },
  {
   "cell_type": "code",
   "execution_count": 27,
   "metadata": {},
   "outputs": [
    {
     "data": {
      "text/plain": [
       "' Save up to on Life Insurance Why Spend More Than You Have To Life Quote Savings Ensuring your family s financial security is very important Life Quote Savings makes buying life insurance simple and affordable We Provide FREE Access to The Very Best Companies and The Lowest Rates Life Quote Savings is FAST EASY and SAVES you money Let us help you get started with the best values in the country on new coverage You can SAVE hundreds or even thousands of dollars by requesting a FREE quote from Lifequote Savings Our service will take you less than minutes to complete Shop and compare SAVE up to on all types of Life insurance Click Here For Your Free Quote Protecting your family is the best investment you ll ever make If you are in receipt of this email in error and or wish to be removed from our list PLEASE CLICK HERE AND TYPE REMOVE If you reside in any state which prohibits e mail solicitations for insurance please disregard this email '"
      ]
     },
     "execution_count": 27,
     "metadata": {},
     "output_type": "execute_result"
    }
   ],
   "source": [
    "text_speciaux=re.sub('[^a-zA-Z]+',' ',text_nombre)\n",
    "text_speciaux"
   ]
  },
  {
   "cell_type": "code",
   "execution_count": 28,
   "metadata": {},
   "outputs": [
    {
     "data": {
      "text/plain": [
       "'Save up to on Life Insurance Why Spend More Than You Have To Life Quote Savings Ensuring your family s financial security is very important Life Quote Savings makes buying life insurance simple and affordable We Provide FREE Access to The Very Best Companies and The Lowest Rates Life Quote Savings is FAST EASY and SAVES you money Let us help you get started with the best values in the country on new coverage You can SAVE hundreds or even thousands of dollars by requesting a FREE quote from Lifequote Savings Our service will take you less than minutes to complete Shop and compare SAVE up to on all types of Life insurance Click Here For Your Free Quote Protecting your family is the best investment you ll ever make If you are in receipt of this email in error and or wish to be removed from our list PLEASE CLICK HERE AND TYPE REMOVE If you reside in any state which prohibits e mail solicitations for insurance please disregard this email'"
      ]
     },
     "execution_count": 28,
     "metadata": {},
     "output_type": "execute_result"
    }
   ],
   "source": [
    "text_space=text_speciaux.strip()\n",
    "text_space"
   ]
  },
  {
   "cell_type": "markdown",
   "metadata": {},
   "source": [
    "# Normlisation\n",
    "\n",
    "Mettre le text dans un meme format (maj/min)"
   ]
  },
  {
   "cell_type": "code",
   "execution_count": 29,
   "metadata": {},
   "outputs": [
    {
     "data": {
      "text/plain": [
       "'save up to on life insurance why spend more than you have to life quote savings ensuring your family s financial security is very important life quote savings makes buying life insurance simple and affordable we provide free access to the very best companies and the lowest rates life quote savings is fast easy and saves you money let us help you get started with the best values in the country on new coverage you can save hundreds or even thousands of dollars by requesting a free quote from lifequote savings our service will take you less than minutes to complete shop and compare save up to on all types of life insurance click here for your free quote protecting your family is the best investment you ll ever make if you are in receipt of this email in error and or wish to be removed from our list please click here and type remove if you reside in any state which prohibits e mail solicitations for insurance please disregard this email'"
      ]
     },
     "execution_count": 29,
     "metadata": {},
     "output_type": "execute_result"
    }
   ],
   "source": [
    "text_lower=text_space.lower()\n",
    "text_lower"
   ]
  },
  {
   "cell_type": "code",
   "execution_count": null,
   "metadata": {},
   "outputs": [],
   "source": [
    "\n"
   ]
  },
  {
   "cell_type": "markdown",
   "metadata": {},
   "source": [
    "# Supprimer les stop words"
   ]
  },
  {
   "cell_type": "code",
   "execution_count": 31,
   "metadata": {},
   "outputs": [
    {
     "name": "stderr",
     "output_type": "stream",
     "text": [
      "[nltk_data] Downloading package stopwords to\n",
      "[nltk_data]     C:\\Users\\pc\\AppData\\Roaming\\nltk_data...\n",
      "[nltk_data]   Package stopwords is already up-to-date!\n"
     ]
    }
   ],
   "source": [
    "import nltk\n",
    "nltk.download('stopwords')\n",
    "from nltk.corpus import stopwords\n",
    "#print stopwords.words() [620:680]"
   ]
  },
  {
   "cell_type": "code",
   "execution_count": 50,
   "metadata": {},
   "outputs": [],
   "source": [
    "text_SS=[]\n",
    "for e in text_lower.split():\n",
    "    if(e  not in stopwords.words()):\n",
    "        text_SS.append(e)\n",
    "text_SS=\" \".join(text_SS)\n",
    "       \n",
    "     "
   ]
  },
  {
   "cell_type": "code",
   "execution_count": 51,
   "metadata": {},
   "outputs": [
    {
     "data": {
      "text/plain": [
       "'save life insurance spend life quote savings ensuring family financial security important life quote savings makes buying life insurance simple affordable provide free access best companies lowest rates life quote savings fast easy saves money let us help get started best values country new coverage save hundreds even thousands dollars requesting free quote lifequote savings service less minutes complete shop compare save types life insurance click free quote protecting family best investment ever make receipt email error wish removed list please click type remove reside state prohibits mail solicitations insurance please disregard email'"
      ]
     },
     "execution_count": 51,
     "metadata": {},
     "output_type": "execute_result"
    }
   ],
   "source": [
    "text_SS"
   ]
  },
  {
   "cell_type": "markdown",
   "metadata": {},
   "source": [
    "# Stemming"
   ]
  },
  {
   "cell_type": "code",
   "execution_count": 60,
   "metadata": {},
   "outputs": [],
   "source": [
    "\n",
    "# import these modules\n",
    "from nltk.stem import PorterStemmer\n",
    "from nltk.tokenize import word_tokenize\n",
    "  \n",
    "ps = PorterStemmer()\n",
    " \n",
    "# choose some words to be stemmed\n",
    "words = text_SS.split()\n",
    "text_stemming=[]\n",
    "\n",
    " \n",
    "for w in words:\n",
    "    \n",
    "    text_stemming.append(ps.stem(w)) \n",
    "text_stemming=\" \".join(text_stemming)    "
   ]
  },
  {
   "cell_type": "code",
   "execution_count": 61,
   "metadata": {},
   "outputs": [
    {
     "data": {
      "text/plain": [
       "'save life insur spend life quot save ensur famili financi secur import life quot save make buy life insur simpl afford provid free access best compani lowest rate life quot save fast easi save money let us help get start best valu countri new coverag save hundr even thousand dollar request free quot lifequot save servic less minut complet shop compar save type life insur click free quot protect famili best invest ever make receipt email error wish remov list pleas click type remov resid state prohibit mail solicit insur pleas disregard email'"
      ]
     },
     "execution_count": 61,
     "metadata": {},
     "output_type": "execute_result"
    }
   ],
   "source": [
    "text_stemming"
   ]
  },
  {
   "cell_type": "markdown",
   "metadata": {},
   "source": [
    "# Lematization"
   ]
  },
  {
   "cell_type": "markdown",
   "metadata": {},
   "source": [
    "# Tokenization"
   ]
  },
  {
   "cell_type": "code",
   "execution_count": 63,
   "metadata": {},
   "outputs": [
    {
     "data": {
      "text/plain": [
       "['save',\n",
       " 'life',\n",
       " 'insur',\n",
       " 'spend',\n",
       " 'life',\n",
       " 'quot',\n",
       " 'save',\n",
       " 'ensur',\n",
       " 'famili',\n",
       " 'financi',\n",
       " 'secur',\n",
       " 'import',\n",
       " 'life',\n",
       " 'quot',\n",
       " 'save',\n",
       " 'make',\n",
       " 'buy',\n",
       " 'life',\n",
       " 'insur',\n",
       " 'simpl',\n",
       " 'afford',\n",
       " 'provid',\n",
       " 'free',\n",
       " 'access',\n",
       " 'best',\n",
       " 'compani',\n",
       " 'lowest',\n",
       " 'rate',\n",
       " 'life',\n",
       " 'quot',\n",
       " 'save',\n",
       " 'fast',\n",
       " 'easi',\n",
       " 'save',\n",
       " 'money',\n",
       " 'let',\n",
       " 'us',\n",
       " 'help',\n",
       " 'get',\n",
       " 'start',\n",
       " 'best',\n",
       " 'valu',\n",
       " 'countri',\n",
       " 'new',\n",
       " 'coverag',\n",
       " 'save',\n",
       " 'hundr',\n",
       " 'even',\n",
       " 'thousand',\n",
       " 'dollar',\n",
       " 'request',\n",
       " 'free',\n",
       " 'quot',\n",
       " 'lifequot',\n",
       " 'save',\n",
       " 'servic',\n",
       " 'less',\n",
       " 'minut',\n",
       " 'complet',\n",
       " 'shop',\n",
       " 'compar',\n",
       " 'save',\n",
       " 'type',\n",
       " 'life',\n",
       " 'insur',\n",
       " 'click',\n",
       " 'free',\n",
       " 'quot',\n",
       " 'protect',\n",
       " 'famili',\n",
       " 'best',\n",
       " 'invest',\n",
       " 'ever',\n",
       " 'make',\n",
       " 'receipt',\n",
       " 'email',\n",
       " 'error',\n",
       " 'wish',\n",
       " 'remov',\n",
       " 'list',\n",
       " 'pleas',\n",
       " 'click',\n",
       " 'type',\n",
       " 'remov',\n",
       " 'resid',\n",
       " 'state',\n",
       " 'prohibit',\n",
       " 'mail',\n",
       " 'solicit',\n",
       " 'insur',\n",
       " 'pleas',\n",
       " 'disregard',\n",
       " 'email']"
      ]
     },
     "execution_count": 63,
     "metadata": {},
     "output_type": "execute_result"
    }
   ],
   "source": [
    "text_stemming.split()"
   ]
  },
  {
   "cell_type": "markdown",
   "metadata": {},
   "source": [
    "# Vectorization"
   ]
  },
  {
   "cell_type": "code",
   "execution_count": 73,
   "metadata": {},
   "outputs": [
    {
     "data": {
      "text/plain": [
       "array(['access', 'afford', 'best', 'buy', 'click', 'compani', 'compar',\n",
       "       'complet', 'countri', 'coverag', 'disregard', 'dollar', 'easi',\n",
       "       'email', 'ensur', 'error', 'even', 'ever', 'famili', 'fast',\n",
       "       'financi', 'free', 'get', 'help', 'hundr', 'import', 'insur',\n",
       "       'invest', 'less', 'let', 'life', 'lifequot', 'list', 'lowest',\n",
       "       'mail', 'make', 'minut', 'money', 'new', 'pleas', 'prohibit',\n",
       "       'protect', 'provid', 'quot', 'rate', 'receipt', 'remov', 'request',\n",
       "       'resid', 'save', 'secur', 'servic', 'shop', 'simpl', 'solicit',\n",
       "       'spend', 'start', 'state', 'thousand', 'type', 'us', 'valu',\n",
       "       'wish'], dtype=object)"
      ]
     },
     "execution_count": 73,
     "metadata": {},
     "output_type": "execute_result"
    }
   ],
   "source": [
    "from sklearn.feature_extraction.text import TfidfVectorizer\n",
    "corpus = [\n",
    "    text_stemming\n",
    "]\n",
    "vectorizer = TfidfVectorizer()\n",
    "X = vectorizer.fit_transform(corpus)\n",
    "vectorizer.get_feature_names_out()\n"
   ]
  },
  {
   "cell_type": "code",
   "execution_count": 75,
   "metadata": {},
   "outputs": [
    {
     "data": {
      "text/plain": [
       "array([1., 1., 1., 1., 1., 1., 1., 1., 1., 1., 1., 1., 1., 1., 1., 1., 1.,\n",
       "       1., 1., 1., 1., 1., 1., 1., 1., 1., 1., 1., 1., 1., 1., 1., 1., 1.,\n",
       "       1., 1., 1., 1., 1., 1., 1., 1., 1., 1., 1., 1., 1., 1., 1., 1., 1.,\n",
       "       1., 1., 1., 1., 1., 1., 1., 1., 1., 1., 1., 1.])"
      ]
     },
     "execution_count": 75,
     "metadata": {},
     "output_type": "execute_result"
    }
   ],
   "source": [
    "vectorizer.idf_\n",
    "\n"
   ]
  }
 ],
 "metadata": {
  "interpreter": {
   "hash": "31f2aee4e71d21fbe5cf8b01ff0e069b9275f58929596ceb00d14d90e3e16cd6"
  },
  "kernelspec": {
   "display_name": "Python 3.8.10 64-bit",
   "language": "python",
   "name": "python3"
  },
  "language_info": {
   "codemirror_mode": {
    "name": "ipython",
    "version": 3
   },
   "file_extension": ".py",
   "mimetype": "text/x-python",
   "name": "python",
   "nbconvert_exporter": "python",
   "pygments_lexer": "ipython3",
   "version": "3.9.12"
  },
  "orig_nbformat": 4
 },
 "nbformat": 4,
 "nbformat_minor": 2
}
