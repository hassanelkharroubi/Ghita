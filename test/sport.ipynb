{
 "cells": [
  {
   "cell_type": "code",
   "execution_count": 6,
   "metadata": {},
   "outputs": [],
   "source": [
    "url='https://hoopshype.com/2022/03/25/damian-lillard-the-only-thing-i-care-about-is-winning-a-championship-in-portland/'"
   ]
  },
  {
   "cell_type": "code",
   "execution_count": 12,
   "metadata": {},
   "outputs": [],
   "source": [
    "import os\n",
    "import csv\n",
    "import requests\n",
    "from bs4 import BeautifulSoup\n",
    "\n"
   ]
  },
  {
   "cell_type": "code",
   "execution_count": null,
   "metadata": {},
   "outputs": [],
   "source": [
    "requete = requests.get(url)\n",
    "\n",
    "page = requete.content\n",
    "\n",
    "soup = BeautifulSoup(page,'html.parser')\n",
    "elems = soup.find_all(class_='noskim')\n",
    "print(elems)\n",
    "\n"
   ]
  },
  {
   "cell_type": "code",
   "execution_count": null,
   "metadata": {},
   "outputs": [],
   "source": [
    "elem=soup.select('div.articleBody div div div div')"
   ]
  },
  {
   "cell_type": "code",
   "execution_count": null,
   "metadata": {},
   "outputs": [],
   "source": [
    "print(len(elem))\n",
    "data=list()\n",
    "for item in elem :\n",
    "    try:\n",
    "        t=item.select('div.articleBody div div div div div div div')[1].select('a')[-1].text\n",
    "        fullname=item.select('div.articleBody div div div div div div div a.fullname')[0].text\n",
    "        comment=item.select('div.articleBody div div div div div div div ')[1].find_next('br').next.text\n",
    "        print(fullname)\n",
    "        data.append([t,fullname,comment])\n",
    "    except IndexError:\n",
    "        continue"
   ]
  },
  {
   "cell_type": "code",
   "execution_count": 97,
   "metadata": {},
   "outputs": [],
   "source": [
    "import csv\n",
    "\n",
    "with open('myfile.csv', 'w') as file:\n",
    "  writer = csv.writer(file, delimiter=',')\n",
    "  writer.writerow(['time','name','comment'])\n",
    "  for row in data:\n",
    "    writer.writerow(row)"
   ]
  },
  {
   "cell_type": "code",
   "execution_count": 88,
   "metadata": {},
   "outputs": [
    {
     "name": "stdout",
     "output_type": "stream",
     "text": [
      "Jim Eichenhofer\n",
      "12:11 AM\n",
      "\n",
      "Larry Nance Jr. on CJ McCollum (25 pts, 6 ast): “CJ has been a top-five skilled player in the NBA. His skill level is through the roof. It just so happened that Dame was alpha (in Portland), and rightfully so. Seeing CJ step into his own here as lead guard, I’m not surprised.” – \n"
     ]
    }
   ],
   "source": [
    "item=elem[4]\n",
    "t=item.select('div.articleBody div div div div div div div')[1].select('a')[-1].text\n",
    "fullname=item.select('div.articleBody div div div div div div div a.fullname')[0].text\n",
    "comment=item.select('div.articleBody div div div div div div div ')[1].find_next('br').next.text\n",
    "print(fullname)\n",
    "print(t)\n",
    "print(comment)"
   ]
  },
  {
   "cell_type": "code",
   "execution_count": 54,
   "metadata": {},
   "outputs": [
    {
     "name": "stdout",
     "output_type": "stream",
     "text": [
      "Jim Eichenhofer\n"
     ]
    }
   ],
   "source": [
    "t=soup.select('div.articleBody div div div div div div div')[1].select('a')[-1].text\n",
    "fullname=soup.select('div.articleBody div div div div div div div a.fullname')[0].text\n",
    "comment=soup.select('div.articleBody div div div div div div div ')[1].find_next('br').next.text\n"
   ]
  }
 ],
 "metadata": {
  "interpreter": {
   "hash": "31f2aee4e71d21fbe5cf8b01ff0e069b9275f58929596ceb00d14d90e3e16cd6"
  },
  "kernelspec": {
   "display_name": "Python 3.9.7 64-bit",
   "language": "python",
   "name": "python3"
  },
  "language_info": {
   "codemirror_mode": {
    "name": "ipython",
    "version": 3
   },
   "file_extension": ".py",
   "mimetype": "text/x-python",
   "name": "python",
   "nbconvert_exporter": "python",
   "pygments_lexer": "ipython3",
   "version": "3.9.7"
  },
  "orig_nbformat": 4
 },
 "nbformat": 4,
 "nbformat_minor": 2
}
