{
 "cells": [
  {
   "cell_type": "code",
   "execution_count": 2,
   "metadata": {},
   "outputs": [
    {
     "name": "stderr",
     "output_type": "stream",
     "text": [
      "/usr/lib/python3/dist-packages/requests/__init__.py:89: RequestsDependencyWarning: urllib3 (1.26.9) or chardet (3.0.4) doesn't match a supported version!\n",
      "  warnings.warn(\"urllib3 ({}) or chardet ({}) doesn't match a supported \"\n"
     ]
    }
   ],
   "source": [
    "from bs4 import BeautifulSoup\n",
    "import requests\n",
    "import os \n",
    "import os.path\n",
    "\n",
    "import time \n",
    "import json\n",
    "import pandas as pd"
   ]
  },
  {
   "cell_type": "code",
   "execution_count": 4,
   "metadata": {},
   "outputs": [],
   "source": [
    "header=['username','comment','label','date']\n",
    "api=\"https://api-graphql.lefigaro.fr/\"\n",
    "id_comments=\"widget-comments_commentsQuery2_31d9f1fd61a3568936b76800aef3aade1b9002eee01930e2b9c499ceca28192e\"\n",
    "url=[\"https://www.lefigaro.fr/actualite-france/guerre-en-ukraine-un-non-ukrainien-sur-trois-parmi-les-refugies-en-france-20220308\"]"
   ]
  },
  {
   "cell_type": "markdown",
   "metadata": {},
   "source": [
    "In these URLs we can made search by selenium but we use manually with some filters depends on the country.\n",
    "\n",
    "As you can say in these 2 URLs."
   ]
  },
  {
   "cell_type": "code",
   "execution_count": 5,
   "metadata": {},
   "outputs": [],
   "source": [
    "guerre_en_ukraine=\"https://recherche.lefigaro.fr/recherche/Guerre%20entre%20Ukraine%20et%20russie/?lieux_slug=ukraine&type=ART\"\n",
    "guerre_en_russie=\"https://recherche.lefigaro.fr/recherche/Guerre%20entre%20Ukraine%20et%20russie/?type=ART&lieux_slug=russie\""
   ]
  },
  {
   "cell_type": "code",
   "execution_count": 6,
   "metadata": {},
   "outputs": [],
   "source": [
    "from selenium import webdriver\n",
    "from selenium.webdriver.common.keys import Keys\n",
    "from selenium.common.exceptions import WebDriverException,InvalidSessionIdException\n",
    "from selenium.webdriver.common.by import By\n",
    "from selenium.webdriver.support.ui import WebDriverWait\n",
    "from selenium.webdriver.support import expected_conditions as EC   \n",
    "from webdriver_manager.chrome import ChromeDriverManager\n",
    "from selenium.webdriver.chrome.service import Service\n",
    "\n"
   ]
  },
  {
   "cell_type": "code",
   "execution_count": 7,
   "metadata": {},
   "outputs": [],
   "source": [
    "def start():\n",
    "    driver = webdriver.Chrome(service=Service(ChromeDriverManager().install()))\n",
    "    return driver"
   ]
  },
  {
   "cell_type": "code",
   "execution_count": 8,
   "metadata": {},
   "outputs": [],
   "source": [
    "def get_articles(driver):\n",
    "    # get the first article before click to load other articles\n",
    "    webElement_articles=driver.find_elements(by=By.CSS_SELECTOR,value='#articles-list .fig-profil-mtpd')\n",
    "\n",
    "    links_of_articles=[]\n",
    "\n",
    "    for webElement_article in webElement_articles:\n",
    "        link_article=webElement_article.find_element(by=By.CSS_SELECTOR,value='h2.fig-profil-headline a')\n",
    "        \n",
    "        links_of_articles.append(link_article.get_attribute('href'))\n",
    "\n",
    "    return links_of_articles    \n",
    "    \n",
    "    # btn_more_article=driver.find_element(by=By.CSS_SELECTOR,value='button.js_startendeless')\n",
    "    # btn_more_article.send_keys(Keys.ENTER)"
   ]
  },
  {
   "cell_type": "code",
   "execution_count": 9,
   "metadata": {},
   "outputs": [],
   "source": [
    "# this function used for scroll all articles\n",
    "def process_articles(link,driver):\n",
    "    driver.get(link)\n",
    "    time.sleep(2)  # Allow 2 seconds for the web page to open\n",
    "    scroll_pause_time = 1 # You can set your own pause time. \n",
    "    screen_height = driver.execute_script(\"return window.screen.height;\")   # get the screen height of the web\n",
    "\n",
    "    btn_more_article=driver.find_element(by=By.CSS_SELECTOR,value='button.js_startendeless')\n",
    "    btn_more_article.send_keys(Keys.ENTER)\n",
    "\n",
    "    i = 1\n",
    "\n",
    "    while True:\n",
    "        # scroll one screen height each time\n",
    "        driver.execute_script(\"window.scrollTo(0, {screen_height}*{i});\".format(screen_height=screen_height, i=i))  \n",
    "        i += 1\n",
    "        time.sleep(scroll_pause_time)\n",
    "        # update scroll height each time after scrolled, as the scroll height can change after we scrolled the page\n",
    "        scroll_height = driver.execute_script(\"return document.body.scrollHeight;\")  \n",
    "        # Break the loop when the height we need to scroll to is larger than the total scroll height\n",
    "        if (screen_height) * i > scroll_height:\n",
    "            break\n",
    "    links_of_articles=get_articles(driver)\n",
    "    driver.close()\n",
    "    return links_of_articles    "
   ]
  },
  {
   "cell_type": "code",
   "execution_count": 11,
   "metadata": {},
   "outputs": [],
   "source": [
    "def get_data_content_id(driver):\n",
    "    div_data_content=driver.find_element(by=By.CSS_SELECTOR, value='div.fig-comments')\n",
    "    data_content_id=div_data_content.get_attribute('data-content-id')\n",
    "    return data_content_id"
   ]
  },
  {
   "cell_type": "code",
   "execution_count": 13,
   "metadata": {},
   "outputs": [],
   "source": [
    "def get_comments(data):\n",
    "    i=1\n",
    "    all_comments=[]\n",
    "    comments=data['data']\n",
    "    comments_data=comments['comments']\n",
    "    if len(comments_data)==0:\n",
    "        return all_comments\n",
    "    for comment in comments_data:    \n",
    "        text=comment['text']\n",
    "        author=comment['author']\n",
    "        date=comment['createdAt']\n",
    "        if author:\n",
    "            all_comments.append([author['username'],text,'',date])\n",
    "        else:\n",
    "            all_comments.append(['uknown',text,'',date])    \n",
    "    \n",
    "    return all_comments    "
   ]
  },
  {
   "cell_type": "code",
   "execution_count": 14,
   "metadata": {},
   "outputs": [],
   "source": [
    "\n",
    "def send_request(data_content_id,page=1,id=id_comments):\n",
    "    path=\"/graphql?id=\"+id_comments+\"&variables={%22id%22:%22\"+data_content_id+\"%22,%22page%22:\"+str(page)+\"}\"\n",
    "    data_url=api+path\n",
    "    response = requests.request(\"GET\", data_url)\n",
    "    return response"
   ]
  },
  {
   "cell_type": "code",
   "execution_count": 15,
   "metadata": {},
   "outputs": [],
   "source": [
    "\n",
    "# This function we will use it to loop all the comments. page per page\n",
    "def process_comments(data_content_id):\n",
    "    comments_data=[]\n",
    "    i=1\n",
    "    while i!=0:\n",
    "        response=send_request(page=i,data_content_id=data_content_id)\n",
    "        if response.ok:\n",
    "            raw_data=response.text\n",
    "\n",
    "            data=json.loads(raw_data)\n",
    "            # this instruction return list of comments\n",
    "            comments=get_comments(data)\n",
    "\n",
    "            if len(comments)==0:\n",
    "                i=0\n",
    "                continue\n",
    "            else:\n",
    "                for comment in comments:\n",
    "                    comments_data.append(comment)\n",
    "                i=i+1\n",
    "                continue\n",
    "        else:\n",
    "            print('erreur in response')    \n",
    "            i=0\n",
    "            continue\n",
    "    return comments_data              \n",
    "\n",
    "\n"
   ]
  },
  {
   "cell_type": "markdown",
   "metadata": {},
   "source": [
    "## Get all articles from links (search by keywords)\n"
   ]
  },
  {
   "cell_type": "code",
   "execution_count": 105,
   "metadata": {},
   "outputs": [
    {
     "name": "stderr",
     "output_type": "stream",
     "text": [
      "\n",
      "\n",
      "====== WebDriver manager ======\n",
      "Current google-chrome version is 99.0.4844\n",
      "Get LATEST chromedriver version for 99.0.4844 google-chrome\n",
      "Driver [/home/elkharroubi/.wdm/drivers/chromedriver/linux64/99.0.4844.51/chromedriver] found in cache\n"
     ]
    }
   ],
   "source": [
    "links_russie_articles=process_articles(guerre_en_russie,start())"
   ]
  },
  {
   "cell_type": "code",
   "execution_count": 116,
   "metadata": {},
   "outputs": [
    {
     "name": "stdout",
     "output_type": "stream",
     "text": [
      "862\n",
      "http://www.lefigaro.fr/international/la-cyberguerre-fait-rage-entre-la-russie-et-l-ukraine-20220301\n"
     ]
    }
   ],
   "source": [
    "print(len(links_russie_articles))\n",
    "print(links_russie_articles[0])"
   ]
  },
  {
   "cell_type": "code",
   "execution_count": 128,
   "metadata": {},
   "outputs": [],
   "source": [
    "pd.DataFrame(links_russie_articles,columns=['Links']).to_csv('./data/links_russie_articles.csv',index=False)"
   ]
  },
  {
   "cell_type": "code",
   "execution_count": 109,
   "metadata": {},
   "outputs": [
    {
     "name": "stderr",
     "output_type": "stream",
     "text": [
      "\n",
      "\n",
      "====== WebDriver manager ======\n",
      "Current google-chrome version is 99.0.4844\n",
      "Get LATEST chromedriver version for 99.0.4844 google-chrome\n",
      "Driver [/home/elkharroubi/.wdm/drivers/chromedriver/linux64/99.0.4844.51/chromedriver] found in cache\n"
     ]
    }
   ],
   "source": [
    "links_ukraine_articles=process_articles(guerre_en_ukraine,start())"
   ]
  },
  {
   "cell_type": "code",
   "execution_count": 117,
   "metadata": {},
   "outputs": [
    {
     "name": "stdout",
     "output_type": "stream",
     "text": [
      "811\n",
      "http://www.lefigaro.fr/international/la-cyberguerre-fait-rage-entre-la-russie-et-l-ukraine-20220301\n"
     ]
    }
   ],
   "source": [
    "print(len(links_ukraine_articles))\n",
    "print(links_ukraine_articles[0])"
   ]
  },
  {
   "cell_type": "code",
   "execution_count": 129,
   "metadata": {},
   "outputs": [],
   "source": [
    "pd.DataFrame(links_ukraine_articles,columns=['Links']).to_csv('./data/links_ukraine_articles.csv',index=False)"
   ]
  },
  {
   "cell_type": "markdown",
   "metadata": {},
   "source": [
    "## Processus links  from file"
   ]
  },
  {
   "cell_type": "code",
   "execution_count": 16,
   "metadata": {},
   "outputs": [],
   "source": [
    "def process_link(link,driver):\n",
    "    # first we should check if there is comments on the article\n",
    "    comments=[]\n",
    "    driver.get(link)\n",
    "    #time.sleep(1)\n",
    "    number_comment=int(driver.find_element(by=By.CSS_SELECTOR,value='p.fig-comments-tabbar__small').text)\n",
    "    print(number_comment)\n",
    "    if number_comment==0 or number_comment==1:\n",
    "        return comments\n",
    "    # second we should get the id of every page\n",
    "    # this id we give us the acces to comments\n",
    "    data_content_id=get_data_content_id(driver)\n",
    "    comments=process_comments(data_content_id)\n",
    "    return comments\n"
   ]
  },
  {
   "cell_type": "code",
   "execution_count": 17,
   "metadata": {},
   "outputs": [],
   "source": [
    "links_ukraine_articles=pd.read_csv('./data/links_ukraine_articles.csv')"
   ]
  },
  {
   "cell_type": "code",
   "execution_count": 18,
   "metadata": {},
   "outputs": [
    {
     "data": {
      "text/html": [
       "<div>\n",
       "<style scoped>\n",
       "    .dataframe tbody tr th:only-of-type {\n",
       "        vertical-align: middle;\n",
       "    }\n",
       "\n",
       "    .dataframe tbody tr th {\n",
       "        vertical-align: top;\n",
       "    }\n",
       "\n",
       "    .dataframe thead th {\n",
       "        text-align: right;\n",
       "    }\n",
       "</style>\n",
       "<table border=\"1\" class=\"dataframe\">\n",
       "  <thead>\n",
       "    <tr style=\"text-align: right;\">\n",
       "      <th></th>\n",
       "      <th>Links</th>\n",
       "    </tr>\n",
       "  </thead>\n",
       "  <tbody>\n",
       "    <tr>\n",
       "      <th>0</th>\n",
       "      <td>http://www.lefigaro.fr/international/la-cyberg...</td>\n",
       "    </tr>\n",
       "    <tr>\n",
       "      <th>1</th>\n",
       "      <td>http://www.lefigaro.fr/international/guerre-en...</td>\n",
       "    </tr>\n",
       "    <tr>\n",
       "      <th>2</th>\n",
       "      <td>http://www.lefigaro.fr/international/guerre-en...</td>\n",
       "    </tr>\n",
       "    <tr>\n",
       "      <th>3</th>\n",
       "      <td>http://www.lefigaro.fr/international/explicati...</td>\n",
       "    </tr>\n",
       "    <tr>\n",
       "      <th>4</th>\n",
       "      <td>http://www.lefigaro.fr/secteur/high-tech/guerr...</td>\n",
       "    </tr>\n",
       "  </tbody>\n",
       "</table>\n",
       "</div>"
      ],
      "text/plain": [
       "                                               Links\n",
       "0  http://www.lefigaro.fr/international/la-cyberg...\n",
       "1  http://www.lefigaro.fr/international/guerre-en...\n",
       "2  http://www.lefigaro.fr/international/guerre-en...\n",
       "3  http://www.lefigaro.fr/international/explicati...\n",
       "4  http://www.lefigaro.fr/secteur/high-tech/guerr..."
      ]
     },
     "execution_count": 18,
     "metadata": {},
     "output_type": "execute_result"
    }
   ],
   "source": [
    "links_ukraine_articles.head()"
   ]
  },
  {
   "cell_type": "code",
   "execution_count": null,
   "metadata": {},
   "outputs": [],
   "source": [
    "driver=start()\n",
    "data_comments=[]\n",
    "links_exception=[]\n",
    "i=0\n",
    "for link in links_ukraine_articles.values:\n",
    "    try:\n",
    "        i=i+1\n",
    "        comments=process_link(link[0],driver)\n",
    "        if len(comments)==0:\n",
    "            continue\n",
    "        for comment in comments:\n",
    "            data_comments.append(comment)\n",
    "    except WebDriverException:\n",
    "        links_exception.append(link[0])\n",
    "        #driver.close()\n",
    "    except InvalidSessionIdException:\n",
    "        links_exception.append(link[0])\n",
    "        driver.close()\n",
    "        continue\n",
    "\n"
   ]
  },
  {
   "cell_type": "code",
   "execution_count": null,
   "metadata": {},
   "outputs": [],
   "source": [
    "pd.DataFrame(links_ukraine_articles,columns=header).to_csv('./data/comments_ukraine_articles.csv',index=False)"
   ]
  },
  {
   "cell_type": "code",
   "execution_count": 228,
   "metadata": {},
   "outputs": [],
   "source": [
    "pd.DataFrame(data_comments,columns=header).to_csv('./data/comments_ukraine_articles.csv',index=False)"
   ]
  }
 ],
 "metadata": {
  "interpreter": {
   "hash": "31f2aee4e71d21fbe5cf8b01ff0e069b9275f58929596ceb00d14d90e3e16cd6"
  },
  "kernelspec": {
   "display_name": "Python 3.8.10 64-bit",
   "language": "python",
   "name": "python3"
  },
  "language_info": {
   "codemirror_mode": {
    "name": "ipython",
    "version": 3
   },
   "file_extension": ".py",
   "mimetype": "text/x-python",
   "name": "python",
   "nbconvert_exporter": "python",
   "pygments_lexer": "ipython3",
   "version": "3.8.10"
  },
  "orig_nbformat": 4
 },
 "nbformat": 4,
 "nbformat_minor": 2
}
