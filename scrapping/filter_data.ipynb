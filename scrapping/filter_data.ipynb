{
 "cells": [
  {
   "cell_type": "code",
   "execution_count": 1,
   "metadata": {},
   "outputs": [],
   "source": [
    "\n",
    "import pandas as pd\n",
    "import numpy as np"
   ]
  },
  {
   "cell_type": "markdown",
   "metadata": {},
   "source": [
    "### Read file \n",
    "Vous devez donner le cheminn de fichier csv qui contient les donnees\n",
    "\n",
    "la fonction **drop_duplicates** utilisee pour supprimer les commentaires qui se repetent"
   ]
  },
  {
   "cell_type": "code",
   "execution_count": 14,
   "metadata": {},
   "outputs": [
    {
     "data": {
      "text/html": [
       "<div>\n",
       "<style scoped>\n",
       "    .dataframe tbody tr th:only-of-type {\n",
       "        vertical-align: middle;\n",
       "    }\n",
       "\n",
       "    .dataframe tbody tr th {\n",
       "        vertical-align: top;\n",
       "    }\n",
       "\n",
       "    .dataframe thead th {\n",
       "        text-align: right;\n",
       "    }\n",
       "</style>\n",
       "<table border=\"1\" class=\"dataframe\">\n",
       "  <thead>\n",
       "    <tr style=\"text-align: right;\">\n",
       "      <th></th>\n",
       "      <th>username</th>\n",
       "      <th>comment</th>\n",
       "      <th>label</th>\n",
       "      <th>date</th>\n",
       "    </tr>\n",
       "  </thead>\n",
       "  <tbody>\n",
       "    <tr>\n",
       "      <th>0</th>\n",
       "      <td>Salvagny 25</td>\n",
       "      <td>Les Russes n’ont pas d’armes chimiques. Point ...</td>\n",
       "      <td></td>\n",
       "      <td>2022-03-25T00:45:35.000Z</td>\n",
       "    </tr>\n",
       "    <tr>\n",
       "      <th>1</th>\n",
       "      <td>Nenjetplus</td>\n",
       "      <td>Il faut que Biden et les États-Unis arrêtent d...</td>\n",
       "      <td></td>\n",
       "      <td>2022-03-23T15:40:50.000Z</td>\n",
       "    </tr>\n",
       "    <tr>\n",
       "      <th>2</th>\n",
       "      <td>Geneviève Meunier-dumont</td>\n",
       "      <td>il faut ressuciter Powel&amp;nbsp;!</td>\n",
       "      <td></td>\n",
       "      <td>2022-03-23T12:58:00.000Z</td>\n",
       "    </tr>\n",
       "    <tr>\n",
       "      <th>3</th>\n",
       "      <td>Maria Gentile</td>\n",
       "      <td>Propagande américaine exactement comme pour l'...</td>\n",
       "      <td></td>\n",
       "      <td>2022-03-23T11:49:47.000Z</td>\n",
       "    </tr>\n",
       "    <tr>\n",
       "      <th>4</th>\n",
       "      <td>Pierre-Louis Etienne</td>\n",
       "      <td>Et soudain on ne parle plus des laboratoires u...</td>\n",
       "      <td></td>\n",
       "      <td>2022-03-23T11:28:07.000Z</td>\n",
       "    </tr>\n",
       "  </tbody>\n",
       "</table>\n",
       "</div>"
      ],
      "text/plain": [
       "                   username  \\\n",
       "0               Salvagny 25   \n",
       "1                Nenjetplus   \n",
       "2  Geneviève Meunier-dumont   \n",
       "3             Maria Gentile   \n",
       "4      Pierre-Louis Etienne   \n",
       "\n",
       "                                             comment label  \\\n",
       "0  Les Russes n’ont pas d’armes chimiques. Point ...         \n",
       "1  Il faut que Biden et les États-Unis arrêtent d...         \n",
       "2                    il faut ressuciter Powel&nbsp;!         \n",
       "3  Propagande américaine exactement comme pour l'...         \n",
       "4  Et soudain on ne parle plus des laboratoires u...         \n",
       "\n",
       "                       date  \n",
       "0  2022-03-25T00:45:35.000Z  \n",
       "1  2022-03-23T15:40:50.000Z  \n",
       "2  2022-03-23T12:58:00.000Z  \n",
       "3  2022-03-23T11:49:47.000Z  \n",
       "4  2022-03-23T11:28:07.000Z  "
      ]
     },
     "execution_count": 14,
     "metadata": {},
     "output_type": "execute_result"
    }
   ],
   "source": [
    "path='./data/russie_data.csv'\n",
    "text=pd.read_csv(path).drop_duplicates()\n",
    "text['comment'].astype('str')\n",
    "text['label']=''\n",
    "\n",
    "text.head()"
   ]
  },
  {
   "cell_type": "markdown",
   "metadata": {},
   "source": [
    "* Convertir dataFrame au type numpy sinon vous pouvez manipuler les donnees sous type DataFrame"
   ]
  },
  {
   "cell_type": "code",
   "execution_count": 16,
   "metadata": {},
   "outputs": [
    {
     "data": {
      "text/plain": [
       "(29216, 4)"
      ]
     },
     "execution_count": 16,
     "metadata": {},
     "output_type": "execute_result"
    }
   ],
   "source": [
    "data=text.values\n",
    "data.shape"
   ]
  },
  {
   "cell_type": "markdown",
   "metadata": {},
   "source": [
    "* Filtrage des donnees en basant sur la taille de commentaire"
   ]
  },
  {
   "cell_type": "code",
   "execution_count": 20,
   "metadata": {},
   "outputs": [],
   "source": [
    "length=50\n",
    "filtered_data=[]\n",
    "for comment in data:\n",
    "    # split( pour avoir les noms pas des espaces)\n",
    "    try: \n",
    "        if len(comment[1].split()) <length:\n",
    "            filtered_data.append(comment)\n",
    "    except AttributeError:\n",
    "        pass\n"
   ]
  }
 ],
 "metadata": {
  "interpreter": {
   "hash": "31f2aee4e71d21fbe5cf8b01ff0e069b9275f58929596ceb00d14d90e3e16cd6"
  },
  "kernelspec": {
   "display_name": "Python 3.8.10 64-bit",
   "language": "python",
   "name": "python3"
  },
  "language_info": {
   "codemirror_mode": {
    "name": "ipython",
    "version": 3
   },
   "file_extension": ".py",
   "mimetype": "text/x-python",
   "name": "python",
   "nbconvert_exporter": "python",
   "pygments_lexer": "ipython3",
   "version": "3.8.10"
  },
  "orig_nbformat": 4
 },
 "nbformat": 4,
 "nbformat_minor": 2
}
